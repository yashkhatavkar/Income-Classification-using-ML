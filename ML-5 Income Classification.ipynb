{
 "cells": [
  {
   "cell_type": "code",
   "execution_count": 192,
   "id": "16a2d488-db98-4335-842a-95a9575f7389",
   "metadata": {},
   "outputs": [],
   "source": [
    "import pandas as pd  # Importing Pandas for data manipulation\n",
    "import numpy as np  # Importing NumPy for numerical operations\n",
    "import matplotlib.pyplot as plt  # Importing Matplotlib for plotting\n",
    "import seaborn as sns  # Importing Seaborn for enhanced data visualization\n",
    "# Configuring inline plotting in Jupyter\n",
    "%matplotlib inline \n",
    "sns.set_style('darkgrid')  # Setting Seaborn plot style to dark with grid"
   ]
  },
  {
   "cell_type": "code",
   "execution_count": 193,
   "id": "f1dc5d0f-0849-4d50-8187-972ca899f0c8",
   "metadata": {},
   "outputs": [
    {
     "data": {
      "text/html": [
       "<div>\n",
       "<style scoped>\n",
       "    .dataframe tbody tr th:only-of-type {\n",
       "        vertical-align: middle;\n",
       "    }\n",
       "\n",
       "    .dataframe tbody tr th {\n",
       "        vertical-align: top;\n",
       "    }\n",
       "\n",
       "    .dataframe thead th {\n",
       "        text-align: right;\n",
       "    }\n",
       "</style>\n",
       "<table border=\"1\" class=\"dataframe\">\n",
       "  <thead>\n",
       "    <tr style=\"text-align: right;\">\n",
       "      <th></th>\n",
       "      <th>age</th>\n",
       "      <th>workclass</th>\n",
       "      <th>fnlwgt</th>\n",
       "      <th>education</th>\n",
       "      <th>education-num</th>\n",
       "      <th>marital-status</th>\n",
       "      <th>occupation</th>\n",
       "      <th>relationship</th>\n",
       "      <th>race</th>\n",
       "      <th>sex</th>\n",
       "      <th>capital-gain</th>\n",
       "      <th>capital-loss</th>\n",
       "      <th>hours-per-week</th>\n",
       "      <th>native-country</th>\n",
       "      <th>income</th>\n",
       "    </tr>\n",
       "  </thead>\n",
       "  <tbody>\n",
       "    <tr>\n",
       "      <th>0</th>\n",
       "      <td>39</td>\n",
       "      <td>State-gov</td>\n",
       "      <td>77516</td>\n",
       "      <td>Bachelors</td>\n",
       "      <td>13</td>\n",
       "      <td>Never-married</td>\n",
       "      <td>Adm-clerical</td>\n",
       "      <td>Not-in-family</td>\n",
       "      <td>White</td>\n",
       "      <td>Male</td>\n",
       "      <td>2174</td>\n",
       "      <td>0</td>\n",
       "      <td>40</td>\n",
       "      <td>United-States</td>\n",
       "      <td>&lt;=50K</td>\n",
       "    </tr>\n",
       "    <tr>\n",
       "      <th>1</th>\n",
       "      <td>50</td>\n",
       "      <td>Self-emp-not-inc</td>\n",
       "      <td>83311</td>\n",
       "      <td>Bachelors</td>\n",
       "      <td>13</td>\n",
       "      <td>Married-civ-spouse</td>\n",
       "      <td>Exec-managerial</td>\n",
       "      <td>Husband</td>\n",
       "      <td>White</td>\n",
       "      <td>Male</td>\n",
       "      <td>0</td>\n",
       "      <td>0</td>\n",
       "      <td>13</td>\n",
       "      <td>United-States</td>\n",
       "      <td>&lt;=50K</td>\n",
       "    </tr>\n",
       "    <tr>\n",
       "      <th>2</th>\n",
       "      <td>38</td>\n",
       "      <td>Private</td>\n",
       "      <td>215646</td>\n",
       "      <td>HS-grad</td>\n",
       "      <td>9</td>\n",
       "      <td>Divorced</td>\n",
       "      <td>Handlers-cleaners</td>\n",
       "      <td>Not-in-family</td>\n",
       "      <td>White</td>\n",
       "      <td>Male</td>\n",
       "      <td>0</td>\n",
       "      <td>0</td>\n",
       "      <td>40</td>\n",
       "      <td>United-States</td>\n",
       "      <td>&lt;=50K</td>\n",
       "    </tr>\n",
       "    <tr>\n",
       "      <th>3</th>\n",
       "      <td>53</td>\n",
       "      <td>Private</td>\n",
       "      <td>234721</td>\n",
       "      <td>11th</td>\n",
       "      <td>7</td>\n",
       "      <td>Married-civ-spouse</td>\n",
       "      <td>Handlers-cleaners</td>\n",
       "      <td>Husband</td>\n",
       "      <td>Black</td>\n",
       "      <td>Male</td>\n",
       "      <td>0</td>\n",
       "      <td>0</td>\n",
       "      <td>40</td>\n",
       "      <td>United-States</td>\n",
       "      <td>&lt;=50K</td>\n",
       "    </tr>\n",
       "    <tr>\n",
       "      <th>4</th>\n",
       "      <td>28</td>\n",
       "      <td>Private</td>\n",
       "      <td>338409</td>\n",
       "      <td>Bachelors</td>\n",
       "      <td>13</td>\n",
       "      <td>Married-civ-spouse</td>\n",
       "      <td>Prof-specialty</td>\n",
       "      <td>Wife</td>\n",
       "      <td>Black</td>\n",
       "      <td>Female</td>\n",
       "      <td>0</td>\n",
       "      <td>0</td>\n",
       "      <td>40</td>\n",
       "      <td>Cuba</td>\n",
       "      <td>&lt;=50K</td>\n",
       "    </tr>\n",
       "  </tbody>\n",
       "</table>\n",
       "</div>"
      ],
      "text/plain": [
       "   age          workclass   fnlwgt   education   education-num  \\\n",
       "0   39          State-gov    77516   Bachelors              13   \n",
       "1   50   Self-emp-not-inc    83311   Bachelors              13   \n",
       "2   38            Private   215646     HS-grad               9   \n",
       "3   53            Private   234721        11th               7   \n",
       "4   28            Private   338409   Bachelors              13   \n",
       "\n",
       "        marital-status          occupation    relationship    race      sex  \\\n",
       "0        Never-married        Adm-clerical   Not-in-family   White     Male   \n",
       "1   Married-civ-spouse     Exec-managerial         Husband   White     Male   \n",
       "2             Divorced   Handlers-cleaners   Not-in-family   White     Male   \n",
       "3   Married-civ-spouse   Handlers-cleaners         Husband   Black     Male   \n",
       "4   Married-civ-spouse      Prof-specialty            Wife   Black   Female   \n",
       "\n",
       "    capital-gain   capital-loss   hours-per-week  native-country  income  \n",
       "0           2174              0               40   United-States   <=50K  \n",
       "1              0              0               13   United-States   <=50K  \n",
       "2              0              0               40   United-States   <=50K  \n",
       "3              0              0               40   United-States   <=50K  \n",
       "4              0              0               40            Cuba   <=50K  "
      ]
     },
     "execution_count": 193,
     "metadata": {},
     "output_type": "execute_result"
    }
   ],
   "source": [
    "#Read the dataset\n",
    "df = pd.read_csv('income_evaluation.csv')\n",
    "df.head()"
   ]
  },
  {
   "cell_type": "code",
   "execution_count": 194,
   "id": "f828870e-bd1f-45a1-8026-b576ba66b7cb",
   "metadata": {},
   "outputs": [
    {
     "data": {
      "text/plain": [
       "age                0\n",
       " workclass         0\n",
       " fnlwgt            0\n",
       " education         0\n",
       " education-num     0\n",
       " marital-status    0\n",
       " occupation        0\n",
       " relationship      0\n",
       " race              0\n",
       " sex               0\n",
       " capital-gain      0\n",
       " capital-loss      0\n",
       " hours-per-week    0\n",
       " native-country    0\n",
       " income            0\n",
       "dtype: int64"
      ]
     },
     "execution_count": 194,
     "metadata": {},
     "output_type": "execute_result"
    }
   ],
   "source": [
    "#Check null values in dataset\n",
    "df.isnull().sum()"
   ]
  },
  {
   "cell_type": "code",
   "execution_count": 195,
   "id": "bf0987d5-1d01-431a-ae0e-ed7207758e6f",
   "metadata": {},
   "outputs": [
    {
     "data": {
      "text/plain": [
       "(32561, 15)"
      ]
     },
     "execution_count": 195,
     "metadata": {},
     "output_type": "execute_result"
    }
   ],
   "source": [
    "df.shape"
   ]
  },
  {
   "cell_type": "code",
   "execution_count": 196,
   "id": "2d12f344-a445-445c-b3ee-c9cc002bc574",
   "metadata": {},
   "outputs": [],
   "source": [
    "df.columns = ['age','workclass','final_weight', 'education', 'education_num', 'marital_status', 'occupation','relationship','race','sex',\n",
    "              'capital_gain','capital_loss','hrs_per_week','native_country','income']"
   ]
  },
  {
   "cell_type": "code",
   "execution_count": 197,
   "id": "28cdba47-9471-419b-8dde-357f25e861e9",
   "metadata": {},
   "outputs": [
    {
     "data": {
      "text/html": [
       "<div>\n",
       "<style scoped>\n",
       "    .dataframe tbody tr th:only-of-type {\n",
       "        vertical-align: middle;\n",
       "    }\n",
       "\n",
       "    .dataframe tbody tr th {\n",
       "        vertical-align: top;\n",
       "    }\n",
       "\n",
       "    .dataframe thead th {\n",
       "        text-align: right;\n",
       "    }\n",
       "</style>\n",
       "<table border=\"1\" class=\"dataframe\">\n",
       "  <thead>\n",
       "    <tr style=\"text-align: right;\">\n",
       "      <th></th>\n",
       "      <th>age</th>\n",
       "      <th>workclass</th>\n",
       "      <th>final_weight</th>\n",
       "      <th>education</th>\n",
       "      <th>education_num</th>\n",
       "      <th>marital_status</th>\n",
       "      <th>occupation</th>\n",
       "      <th>relationship</th>\n",
       "      <th>race</th>\n",
       "      <th>sex</th>\n",
       "      <th>capital_gain</th>\n",
       "      <th>capital_loss</th>\n",
       "      <th>hrs_per_week</th>\n",
       "      <th>native_country</th>\n",
       "      <th>income</th>\n",
       "    </tr>\n",
       "  </thead>\n",
       "  <tbody>\n",
       "    <tr>\n",
       "      <th>0</th>\n",
       "      <td>39</td>\n",
       "      <td>State-gov</td>\n",
       "      <td>77516</td>\n",
       "      <td>Bachelors</td>\n",
       "      <td>13</td>\n",
       "      <td>Never-married</td>\n",
       "      <td>Adm-clerical</td>\n",
       "      <td>Not-in-family</td>\n",
       "      <td>White</td>\n",
       "      <td>Male</td>\n",
       "      <td>2174</td>\n",
       "      <td>0</td>\n",
       "      <td>40</td>\n",
       "      <td>United-States</td>\n",
       "      <td>&lt;=50K</td>\n",
       "    </tr>\n",
       "    <tr>\n",
       "      <th>1</th>\n",
       "      <td>50</td>\n",
       "      <td>Self-emp-not-inc</td>\n",
       "      <td>83311</td>\n",
       "      <td>Bachelors</td>\n",
       "      <td>13</td>\n",
       "      <td>Married-civ-spouse</td>\n",
       "      <td>Exec-managerial</td>\n",
       "      <td>Husband</td>\n",
       "      <td>White</td>\n",
       "      <td>Male</td>\n",
       "      <td>0</td>\n",
       "      <td>0</td>\n",
       "      <td>13</td>\n",
       "      <td>United-States</td>\n",
       "      <td>&lt;=50K</td>\n",
       "    </tr>\n",
       "    <tr>\n",
       "      <th>2</th>\n",
       "      <td>38</td>\n",
       "      <td>Private</td>\n",
       "      <td>215646</td>\n",
       "      <td>HS-grad</td>\n",
       "      <td>9</td>\n",
       "      <td>Divorced</td>\n",
       "      <td>Handlers-cleaners</td>\n",
       "      <td>Not-in-family</td>\n",
       "      <td>White</td>\n",
       "      <td>Male</td>\n",
       "      <td>0</td>\n",
       "      <td>0</td>\n",
       "      <td>40</td>\n",
       "      <td>United-States</td>\n",
       "      <td>&lt;=50K</td>\n",
       "    </tr>\n",
       "    <tr>\n",
       "      <th>3</th>\n",
       "      <td>53</td>\n",
       "      <td>Private</td>\n",
       "      <td>234721</td>\n",
       "      <td>11th</td>\n",
       "      <td>7</td>\n",
       "      <td>Married-civ-spouse</td>\n",
       "      <td>Handlers-cleaners</td>\n",
       "      <td>Husband</td>\n",
       "      <td>Black</td>\n",
       "      <td>Male</td>\n",
       "      <td>0</td>\n",
       "      <td>0</td>\n",
       "      <td>40</td>\n",
       "      <td>United-States</td>\n",
       "      <td>&lt;=50K</td>\n",
       "    </tr>\n",
       "    <tr>\n",
       "      <th>4</th>\n",
       "      <td>28</td>\n",
       "      <td>Private</td>\n",
       "      <td>338409</td>\n",
       "      <td>Bachelors</td>\n",
       "      <td>13</td>\n",
       "      <td>Married-civ-spouse</td>\n",
       "      <td>Prof-specialty</td>\n",
       "      <td>Wife</td>\n",
       "      <td>Black</td>\n",
       "      <td>Female</td>\n",
       "      <td>0</td>\n",
       "      <td>0</td>\n",
       "      <td>40</td>\n",
       "      <td>Cuba</td>\n",
       "      <td>&lt;=50K</td>\n",
       "    </tr>\n",
       "  </tbody>\n",
       "</table>\n",
       "</div>"
      ],
      "text/plain": [
       "   age          workclass  final_weight   education  education_num  \\\n",
       "0   39          State-gov         77516   Bachelors             13   \n",
       "1   50   Self-emp-not-inc         83311   Bachelors             13   \n",
       "2   38            Private        215646     HS-grad              9   \n",
       "3   53            Private        234721        11th              7   \n",
       "4   28            Private        338409   Bachelors             13   \n",
       "\n",
       "        marital_status          occupation    relationship    race      sex  \\\n",
       "0        Never-married        Adm-clerical   Not-in-family   White     Male   \n",
       "1   Married-civ-spouse     Exec-managerial         Husband   White     Male   \n",
       "2             Divorced   Handlers-cleaners   Not-in-family   White     Male   \n",
       "3   Married-civ-spouse   Handlers-cleaners         Husband   Black     Male   \n",
       "4   Married-civ-spouse      Prof-specialty            Wife   Black   Female   \n",
       "\n",
       "   capital_gain  capital_loss  hrs_per_week  native_country  income  \n",
       "0          2174             0            40   United-States   <=50K  \n",
       "1             0             0            13   United-States   <=50K  \n",
       "2             0             0            40   United-States   <=50K  \n",
       "3             0             0            40   United-States   <=50K  \n",
       "4             0             0            40            Cuba   <=50K  "
      ]
     },
     "execution_count": 197,
     "metadata": {},
     "output_type": "execute_result"
    }
   ],
   "source": [
    "df.head()"
   ]
  },
  {
   "cell_type": "code",
   "execution_count": 198,
   "id": "eef652a7-a5fe-4da2-b66e-2e7bb51855db",
   "metadata": {},
   "outputs": [
    {
     "data": {
      "text/plain": [
       "Index(['age', 'workclass', 'final_weight', 'education', 'education_num',\n",
       "       'marital_status', 'occupation', 'relationship', 'race', 'sex',\n",
       "       'capital_gain', 'capital_loss', 'hrs_per_week', 'native_country',\n",
       "       'income'],\n",
       "      dtype='object')"
      ]
     },
     "execution_count": 198,
     "metadata": {},
     "output_type": "execute_result"
    }
   ],
   "source": [
    "df.columns"
   ]
  },
  {
   "cell_type": "code",
   "execution_count": 199,
   "id": "ff2d60a0-53b5-43c4-a2ad-83b759a55ccf",
   "metadata": {},
   "outputs": [
    {
     "data": {
      "text/plain": [
       "array([' <=50K', ' >50K'], dtype=object)"
      ]
     },
     "execution_count": 199,
     "metadata": {},
     "output_type": "execute_result"
    }
   ],
   "source": [
    "df.income.unique()"
   ]
  },
  {
   "cell_type": "code",
   "execution_count": 200,
   "id": "2899695e-8d85-4c37-87af-45ab49a47221",
   "metadata": {},
   "outputs": [],
   "source": [
    "#converting income columns to 0's and 1's {0 for salary <=50K and 1 for salary >50K}\n",
    "df['income'] = [1 if value == ' >50K' else 0 for value in df['income'].values]         "
   ]
  },
  {
   "cell_type": "code",
   "execution_count": 201,
   "id": "55cd8f71-5e7b-4843-a7c1-43fe0bfe8de4",
   "metadata": {},
   "outputs": [
    {
     "data": {
      "text/html": [
       "<div>\n",
       "<style scoped>\n",
       "    .dataframe tbody tr th:only-of-type {\n",
       "        vertical-align: middle;\n",
       "    }\n",
       "\n",
       "    .dataframe tbody tr th {\n",
       "        vertical-align: top;\n",
       "    }\n",
       "\n",
       "    .dataframe thead th {\n",
       "        text-align: right;\n",
       "    }\n",
       "</style>\n",
       "<table border=\"1\" class=\"dataframe\">\n",
       "  <thead>\n",
       "    <tr style=\"text-align: right;\">\n",
       "      <th></th>\n",
       "      <th>age</th>\n",
       "      <th>workclass</th>\n",
       "      <th>final_weight</th>\n",
       "      <th>education</th>\n",
       "      <th>education_num</th>\n",
       "      <th>marital_status</th>\n",
       "      <th>occupation</th>\n",
       "      <th>relationship</th>\n",
       "      <th>race</th>\n",
       "      <th>sex</th>\n",
       "      <th>capital_gain</th>\n",
       "      <th>capital_loss</th>\n",
       "      <th>hrs_per_week</th>\n",
       "      <th>native_country</th>\n",
       "      <th>income</th>\n",
       "    </tr>\n",
       "  </thead>\n",
       "  <tbody>\n",
       "    <tr>\n",
       "      <th>32556</th>\n",
       "      <td>27</td>\n",
       "      <td>Private</td>\n",
       "      <td>257302</td>\n",
       "      <td>Assoc-acdm</td>\n",
       "      <td>12</td>\n",
       "      <td>Married-civ-spouse</td>\n",
       "      <td>Tech-support</td>\n",
       "      <td>Wife</td>\n",
       "      <td>White</td>\n",
       "      <td>Female</td>\n",
       "      <td>0</td>\n",
       "      <td>0</td>\n",
       "      <td>38</td>\n",
       "      <td>United-States</td>\n",
       "      <td>0</td>\n",
       "    </tr>\n",
       "    <tr>\n",
       "      <th>32557</th>\n",
       "      <td>40</td>\n",
       "      <td>Private</td>\n",
       "      <td>154374</td>\n",
       "      <td>HS-grad</td>\n",
       "      <td>9</td>\n",
       "      <td>Married-civ-spouse</td>\n",
       "      <td>Machine-op-inspct</td>\n",
       "      <td>Husband</td>\n",
       "      <td>White</td>\n",
       "      <td>Male</td>\n",
       "      <td>0</td>\n",
       "      <td>0</td>\n",
       "      <td>40</td>\n",
       "      <td>United-States</td>\n",
       "      <td>1</td>\n",
       "    </tr>\n",
       "    <tr>\n",
       "      <th>32558</th>\n",
       "      <td>58</td>\n",
       "      <td>Private</td>\n",
       "      <td>151910</td>\n",
       "      <td>HS-grad</td>\n",
       "      <td>9</td>\n",
       "      <td>Widowed</td>\n",
       "      <td>Adm-clerical</td>\n",
       "      <td>Unmarried</td>\n",
       "      <td>White</td>\n",
       "      <td>Female</td>\n",
       "      <td>0</td>\n",
       "      <td>0</td>\n",
       "      <td>40</td>\n",
       "      <td>United-States</td>\n",
       "      <td>0</td>\n",
       "    </tr>\n",
       "    <tr>\n",
       "      <th>32559</th>\n",
       "      <td>22</td>\n",
       "      <td>Private</td>\n",
       "      <td>201490</td>\n",
       "      <td>HS-grad</td>\n",
       "      <td>9</td>\n",
       "      <td>Never-married</td>\n",
       "      <td>Adm-clerical</td>\n",
       "      <td>Own-child</td>\n",
       "      <td>White</td>\n",
       "      <td>Male</td>\n",
       "      <td>0</td>\n",
       "      <td>0</td>\n",
       "      <td>20</td>\n",
       "      <td>United-States</td>\n",
       "      <td>0</td>\n",
       "    </tr>\n",
       "    <tr>\n",
       "      <th>32560</th>\n",
       "      <td>52</td>\n",
       "      <td>Self-emp-inc</td>\n",
       "      <td>287927</td>\n",
       "      <td>HS-grad</td>\n",
       "      <td>9</td>\n",
       "      <td>Married-civ-spouse</td>\n",
       "      <td>Exec-managerial</td>\n",
       "      <td>Wife</td>\n",
       "      <td>White</td>\n",
       "      <td>Female</td>\n",
       "      <td>15024</td>\n",
       "      <td>0</td>\n",
       "      <td>40</td>\n",
       "      <td>United-States</td>\n",
       "      <td>1</td>\n",
       "    </tr>\n",
       "  </tbody>\n",
       "</table>\n",
       "</div>"
      ],
      "text/plain": [
       "       age      workclass  final_weight    education  education_num  \\\n",
       "32556   27        Private        257302   Assoc-acdm             12   \n",
       "32557   40        Private        154374      HS-grad              9   \n",
       "32558   58        Private        151910      HS-grad              9   \n",
       "32559   22        Private        201490      HS-grad              9   \n",
       "32560   52   Self-emp-inc        287927      HS-grad              9   \n",
       "\n",
       "            marital_status          occupation relationship    race      sex  \\\n",
       "32556   Married-civ-spouse        Tech-support         Wife   White   Female   \n",
       "32557   Married-civ-spouse   Machine-op-inspct      Husband   White     Male   \n",
       "32558              Widowed        Adm-clerical    Unmarried   White   Female   \n",
       "32559        Never-married        Adm-clerical    Own-child   White     Male   \n",
       "32560   Married-civ-spouse     Exec-managerial         Wife   White   Female   \n",
       "\n",
       "       capital_gain  capital_loss  hrs_per_week  native_country  income  \n",
       "32556             0             0            38   United-States       0  \n",
       "32557             0             0            40   United-States       1  \n",
       "32558             0             0            40   United-States       0  \n",
       "32559             0             0            20   United-States       0  \n",
       "32560         15024             0            40   United-States       1  "
      ]
     },
     "execution_count": 201,
     "metadata": {},
     "output_type": "execute_result"
    }
   ],
   "source": [
    "#Last 5 rows in the dataset\n",
    "df.tail()"
   ]
  },
  {
   "cell_type": "code",
   "execution_count": 202,
   "id": "eb134de1-4e88-48a9-a501-7af1e027c089",
   "metadata": {},
   "outputs": [
    {
     "data": {
      "text/plain": [
       "array([' State-gov', ' Self-emp-not-inc', ' Private', ' Federal-gov',\n",
       "       ' Local-gov', ' ?', ' Self-emp-inc', ' Without-pay',\n",
       "       ' Never-worked'], dtype=object)"
      ]
     },
     "execution_count": 202,
     "metadata": {},
     "output_type": "execute_result"
    }
   ],
   "source": [
    "df.workclass.unique() # Retrieving unique values in the 'workclass' column"
   ]
  },
  {
   "cell_type": "code",
   "execution_count": 203,
   "id": "227ae850-87b1-4949-a820-1c8f89a00a42",
   "metadata": {},
   "outputs": [],
   "source": [
    "#removing ? from column workclass\n",
    "df['workclass'] = np.where(df.workclass == ' ?', np.nan, df['workclass'])"
   ]
  },
  {
   "cell_type": "code",
   "execution_count": 204,
   "id": "4dffdca5-cb6c-4860-9f25-29b88db6e1d6",
   "metadata": {},
   "outputs": [],
   "source": [
    "df.dropna(axis=0,inplace=True) # Removing rows with missing values inplace"
   ]
  },
  {
   "cell_type": "code",
   "execution_count": 205,
   "id": "7170aafb-17e1-4db0-b035-4e279019ee55",
   "metadata": {},
   "outputs": [],
   "source": [
    "# Creating a dictionary to map unique 'workclass' values to their respective labels\n",
    "workclass_labels = {v:k for k, v in enumerate(df.workclass.unique())}"
   ]
  },
  {
   "cell_type": "code",
   "execution_count": 206,
   "id": "8b81a5be-37dc-4bcd-b417-371625a008cb",
   "metadata": {},
   "outputs": [
    {
     "data": {
      "text/plain": [
       "{' State-gov': 0,\n",
       " ' Self-emp-not-inc': 1,\n",
       " ' Private': 2,\n",
       " ' Federal-gov': 3,\n",
       " ' Local-gov': 4,\n",
       " ' Self-emp-inc': 5,\n",
       " ' Without-pay': 6,\n",
       " ' Never-worked': 7}"
      ]
     },
     "execution_count": 206,
     "metadata": {},
     "output_type": "execute_result"
    }
   ],
   "source": [
    "workclass_labels"
   ]
  },
  {
   "cell_type": "code",
   "execution_count": 207,
   "id": "1932cf77-6895-4560-a27c-4afe69820670",
   "metadata": {},
   "outputs": [],
   "source": [
    "# Mapping 'workclass' values to their corresponding labels using the created dictionary\n",
    "df.workclass = df.workclass.map(workclass_labels)"
   ]
  },
  {
   "cell_type": "code",
   "execution_count": 208,
   "id": "42ea6dad-b275-4453-b634-d276f40c8c33",
   "metadata": {},
   "outputs": [
    {
     "data": {
      "text/plain": [
       "array([' Bachelors', ' HS-grad', ' 11th', ' Masters', ' 9th',\n",
       "       ' Some-college', ' Assoc-acdm', ' Assoc-voc', ' 7th-8th',\n",
       "       ' Doctorate', ' Prof-school', ' 5th-6th', ' 10th', ' Preschool',\n",
       "       ' 12th', ' 1st-4th'], dtype=object)"
      ]
     },
     "execution_count": 208,
     "metadata": {},
     "output_type": "execute_result"
    }
   ],
   "source": [
    "df.education.unique()"
   ]
  },
  {
   "cell_type": "code",
   "execution_count": 209,
   "id": "2cb1e9f7-02f3-4617-bf8c-2bff87e8e1f1",
   "metadata": {},
   "outputs": [],
   "source": [
    "# Creating a dictionary to map unique 'education' values to their respective labels\n",
    "education_label = {v:k for k, v in enumerate(df.education.unique())}"
   ]
  },
  {
   "cell_type": "code",
   "execution_count": 210,
   "id": "9f49531c-2ebb-48d2-91f5-4b6ca643e386",
   "metadata": {},
   "outputs": [
    {
     "data": {
      "text/plain": [
       "{' Bachelors': 0,\n",
       " ' HS-grad': 1,\n",
       " ' 11th': 2,\n",
       " ' Masters': 3,\n",
       " ' 9th': 4,\n",
       " ' Some-college': 5,\n",
       " ' Assoc-acdm': 6,\n",
       " ' Assoc-voc': 7,\n",
       " ' 7th-8th': 8,\n",
       " ' Doctorate': 9,\n",
       " ' Prof-school': 10,\n",
       " ' 5th-6th': 11,\n",
       " ' 10th': 12,\n",
       " ' Preschool': 13,\n",
       " ' 12th': 14,\n",
       " ' 1st-4th': 15}"
      ]
     },
     "execution_count": 210,
     "metadata": {},
     "output_type": "execute_result"
    }
   ],
   "source": [
    "education_label"
   ]
  },
  {
   "cell_type": "code",
   "execution_count": 211,
   "id": "2c215403-f9dc-4caf-8cac-0f5e2f5c2511",
   "metadata": {},
   "outputs": [],
   "source": [
    "df.education = df.education.map(education_label)"
   ]
  },
  {
   "cell_type": "code",
   "execution_count": 212,
   "id": "1bc39a42-ac74-4383-8247-d0ae036693c0",
   "metadata": {},
   "outputs": [
    {
     "data": {
      "text/plain": [
       "<AxesSubplot:xlabel='income', ylabel='count'>"
      ]
     },
     "execution_count": 212,
     "metadata": {},
     "output_type": "execute_result"
    },
    {
     "data": {
      "image/png": "[encoded data removed]",
      "text/plain": [
       "<Figure size 1000x400 with 1 Axes>"
      ]
     },
     "metadata": {},
     "output_type": "display_data"
    }
   ],
   "source": [
    "# Creating a new Matplotlib figure with a specified size (width=10, height=4)\n",
    "plt.figure(figsize=(10,4))\n",
    "# Creating a Seaborn countplot for 'income' based on data in the DataFrame 'df', \n",
    "# with 'sex' data additionally differentiated by hue\n",
    "sns.countplot(x='income',data=df,hue='sex')"
   ]
  },
  {
   "cell_type": "code",
   "execution_count": 213,
   "id": "f9e94ad2-cebf-4e36-a36c-1a7e5801d577",
   "metadata": {},
   "outputs": [
    {
     "data": {
      "text/plain": [
       "<AxesSubplot:ylabel='native_country'>"
      ]
     },
     "execution_count": 213,
     "metadata": {},
     "output_type": "execute_result"
    },
    {
     "data": {
      "image/png": "[encoded data removed]",
      "text/plain": [
       "<Figure size 1000x500 with 1 Axes>"
      ]
     },
     "metadata": {},
     "output_type": "display_data"
    }
   ],
   "source": [
    "# Extracting the top 5 most frequent 'native_country' values and their counts\n",
    "native_country = df.native_country.value_counts().nlargest(5)\n",
    "# Creating a new Matplotlib figure with a specified size (width=10, height=5)\n",
    "plt.figure(figsize=(10,5))\n",
    "# Rotating x-axis labels by 75 degrees for better readability\n",
    "plt.xticks(rotation=75)\n",
    "# Creating a Seaborn bar plot to visualize the log-transformed counts of top native countries\n",
    "sns.barplot(x=native_country.index, y=np.log(native_country))"
   ]
  },
  {
   "cell_type": "code",
   "execution_count": 214,
   "id": "b670c969-8f38-42a0-bdbb-c9a225007212",
   "metadata": {},
   "outputs": [],
   "source": [
    "# Replacing ' ?' values with NaN in the 'native_country' column\n",
    "df.native_country = np.where(df.native_country == ' ?',np.nan,df['native_country'])"
   ]
  },
  {
   "cell_type": "code",
   "execution_count": 215,
   "id": "06d2a732-bcbb-44f3-bc7b-d9c99a7b7da8",
   "metadata": {},
   "outputs": [],
   "source": [
    "# Remove rows with missing values inplace\n",
    "df.dropna(axis=0,inplace=True)"
   ]
  },
  {
   "cell_type": "code",
   "execution_count": 216,
   "id": "ee56a57c-8d95-46d8-a0c4-df1d2ec94292",
   "metadata": {},
   "outputs": [],
   "source": [
    "# Creating a dictionary to map unique 'native_country' values to their respective labels\n",
    "native_country = {v:k for k,v in enumerate(df.native_country.unique())}"
   ]
  },
  {
   "cell_type": "code",
   "execution_count": 217,
   "id": "3957df58-3680-4e95-ae5b-dbf0835bd759",
   "metadata": {},
   "outputs": [],
   "source": [
    "# Mapping 'native_country' values to their corresponding labels using the created dictionary\n",
    "df.native_country = df.native_country.map(native_country)"
   ]
  },
  {
   "cell_type": "code",
   "execution_count": 218,
   "id": "c9f1e2cc-e351-4d09-8348-c749406678c2",
   "metadata": {},
   "outputs": [
    {
     "data": {
      "text/plain": [
       "array([' Never-married', ' Married-civ-spouse', ' Divorced',\n",
       "       ' Married-spouse-absent', ' Separated', ' Married-AF-spouse',\n",
       "       ' Widowed'], dtype=object)"
      ]
     },
     "execution_count": 218,
     "metadata": {},
     "output_type": "execute_result"
    }
   ],
   "source": [
    "# Retrieving unique values in the 'marital_status' column\n",
    "df.marital_status.unique()"
   ]
  },
  {
   "cell_type": "code",
   "execution_count": 219,
   "id": "1c92033d-8cb6-4404-82f2-abfd5f23deeb",
   "metadata": {},
   "outputs": [],
   "source": [
    "# Creating a dictionary to map unique 'marital_status' values to their respective labels\n",
    "marital_label = {v:k for k,v in enumerate(df.marital_status.unique())}"
   ]
  },
  {
   "cell_type": "code",
   "execution_count": 220,
   "id": "9920a9a8-38e6-41e5-ad03-62e96cd16dcb",
   "metadata": {},
   "outputs": [],
   "source": [
    "# Mapping 'marital_status' values to their corresponding labels using the created dictionary\n",
    "df.marital_status = df.marital_status.map(marital_label)"
   ]
  },
  {
   "cell_type": "code",
   "execution_count": 221,
   "id": "7b3e234a-46ea-4ad4-85d3-011aaffdce3c",
   "metadata": {},
   "outputs": [],
   "source": [
    "# Replacing ' ?' values with NaN in the 'occupation' column\n",
    "df.occupation = np.where(df.occupation == ' ?',np.nan, df['occupation'])"
   ]
  },
  {
   "cell_type": "code",
   "execution_count": 222,
   "id": "42107198-1a9e-4a84-a693-e85350fb7f13",
   "metadata": {},
   "outputs": [],
   "source": [
    "# Removing rows with missing values inplace\n",
    "df.dropna(axis=0,inplace=True)"
   ]
  },
  {
   "cell_type": "code",
   "execution_count": 223,
   "id": "d6fe2a9d-8369-49a5-b0d2-d2edb5d2feda",
   "metadata": {},
   "outputs": [],
   "source": [
    "# Creating a dictionary to map unique 'occupation' values to their respective labels\n",
    "occupation_label = {v:k for k,v in enumerate(df.occupation.unique())}"
   ]
  },
  {
   "cell_type": "code",
   "execution_count": 224,
   "id": "d86362b7-90c6-4f65-b258-e7cddd2e38f5",
   "metadata": {},
   "outputs": [],
   "source": [
    "# Mapping 'occupation' values to their corresponding labels using the created dictionary\n",
    "df.occupation = df.occupation.map(occupation_label)"
   ]
  },
  {
   "cell_type": "code",
   "execution_count": 225,
   "id": "a3a8e44b-fc1b-4566-a1b0-e1974e03ba03",
   "metadata": {},
   "outputs": [
    {
     "data": {
      "text/plain": [
       "array([' Not-in-family', ' Husband', ' Wife', ' Own-child', ' Unmarried',\n",
       "       ' Other-relative'], dtype=object)"
      ]
     },
     "execution_count": 225,
     "metadata": {},
     "output_type": "execute_result"
    }
   ],
   "source": [
    "# Retrieving unique values in the 'relationship' column\n",
    "df.relationship.unique()"
   ]
  },
  {
   "cell_type": "code",
   "execution_count": 226,
   "id": "6041e672-6db0-429b-bbb7-2cfecd0e4262",
   "metadata": {},
   "outputs": [],
   "source": [
    "# Creating a dictionary to map unique 'relationship' values to their respective labels\n",
    "relationship_label = {v:k for k, v in enumerate(df.relationship.unique())}"
   ]
  },
  {
   "cell_type": "code",
   "execution_count": 227,
   "id": "5abec126-76c7-4344-8de4-0a1c3882f355",
   "metadata": {},
   "outputs": [],
   "source": [
    "# Mapping 'relationship' values to their corresponding labels using the created dictionary\n",
    "df.relationship = df.relationship.map(relationship_label)"
   ]
  },
  {
   "cell_type": "code",
   "execution_count": 228,
   "id": "8cafc157-a475-4b56-9706-52dfa72aa3ba",
   "metadata": {},
   "outputs": [],
   "source": [
    "# Replacing 'Male' values with 1 and other values with 0 in the 'sex' column\n",
    "df.sex = np.where(df.sex == 'Male',1,0)"
   ]
  },
  {
   "cell_type": "code",
   "execution_count": 229,
   "id": "f841cecd-f2e6-4c55-b7b7-1c7a843642aa",
   "metadata": {},
   "outputs": [],
   "source": [
    "# Creating a dictionary to map unique 'race' values to their respective labels\n",
    "race_label = {v:k for k,v in enumerate(df.race.unique())}"
   ]
  },
  {
   "cell_type": "code",
   "execution_count": 230,
   "id": "72a9b01e-e13f-48b5-aef4-a51bad353971",
   "metadata": {},
   "outputs": [],
   "source": [
    "# Mapping 'race' values to their corresponding labels using the created dictionary\n",
    "df.race = df.race.map(race_label)"
   ]
  },
  {
   "cell_type": "code",
   "execution_count": 231,
   "id": "53fec4ea-a9c5-424b-83f4-b3841ce59908",
   "metadata": {},
   "outputs": [
    {
     "data": {
      "text/html": [
       "<div>\n",
       "<style scoped>\n",
       "    .dataframe tbody tr th:only-of-type {\n",
       "        vertical-align: middle;\n",
       "    }\n",
       "\n",
       "    .dataframe tbody tr th {\n",
       "        vertical-align: top;\n",
       "    }\n",
       "\n",
       "    .dataframe thead th {\n",
       "        text-align: right;\n",
       "    }\n",
       "</style>\n",
       "<table border=\"1\" class=\"dataframe\">\n",
       "  <thead>\n",
       "    <tr style=\"text-align: right;\">\n",
       "      <th></th>\n",
       "      <th>age</th>\n",
       "      <th>workclass</th>\n",
       "      <th>final_weight</th>\n",
       "      <th>education</th>\n",
       "      <th>education_num</th>\n",
       "      <th>marital_status</th>\n",
       "      <th>occupation</th>\n",
       "      <th>relationship</th>\n",
       "      <th>race</th>\n",
       "      <th>sex</th>\n",
       "      <th>capital_gain</th>\n",
       "      <th>capital_loss</th>\n",
       "      <th>hrs_per_week</th>\n",
       "      <th>native_country</th>\n",
       "      <th>income</th>\n",
       "    </tr>\n",
       "  </thead>\n",
       "  <tbody>\n",
       "    <tr>\n",
       "      <th>0</th>\n",
       "      <td>39</td>\n",
       "      <td>0</td>\n",
       "      <td>77516</td>\n",
       "      <td>0</td>\n",
       "      <td>13</td>\n",
       "      <td>0</td>\n",
       "      <td>0</td>\n",
       "      <td>0</td>\n",
       "      <td>0</td>\n",
       "      <td>0</td>\n",
       "      <td>2174</td>\n",
       "      <td>0</td>\n",
       "      <td>40</td>\n",
       "      <td>0</td>\n",
       "      <td>0</td>\n",
       "    </tr>\n",
       "    <tr>\n",
       "      <th>1</th>\n",
       "      <td>50</td>\n",
       "      <td>1</td>\n",
       "      <td>83311</td>\n",
       "      <td>0</td>\n",
       "      <td>13</td>\n",
       "      <td>1</td>\n",
       "      <td>1</td>\n",
       "      <td>1</td>\n",
       "      <td>0</td>\n",
       "      <td>0</td>\n",
       "      <td>0</td>\n",
       "      <td>0</td>\n",
       "      <td>13</td>\n",
       "      <td>0</td>\n",
       "      <td>0</td>\n",
       "    </tr>\n",
       "    <tr>\n",
       "      <th>2</th>\n",
       "      <td>38</td>\n",
       "      <td>2</td>\n",
       "      <td>215646</td>\n",
       "      <td>1</td>\n",
       "      <td>9</td>\n",
       "      <td>2</td>\n",
       "      <td>2</td>\n",
       "      <td>0</td>\n",
       "      <td>0</td>\n",
       "      <td>0</td>\n",
       "      <td>0</td>\n",
       "      <td>0</td>\n",
       "      <td>40</td>\n",
       "      <td>0</td>\n",
       "      <td>0</td>\n",
       "    </tr>\n",
       "    <tr>\n",
       "      <th>3</th>\n",
       "      <td>53</td>\n",
       "      <td>2</td>\n",
       "      <td>234721</td>\n",
       "      <td>2</td>\n",
       "      <td>7</td>\n",
       "      <td>1</td>\n",
       "      <td>2</td>\n",
       "      <td>1</td>\n",
       "      <td>1</td>\n",
       "      <td>0</td>\n",
       "      <td>0</td>\n",
       "      <td>0</td>\n",
       "      <td>40</td>\n",
       "      <td>0</td>\n",
       "      <td>0</td>\n",
       "    </tr>\n",
       "    <tr>\n",
       "      <th>4</th>\n",
       "      <td>28</td>\n",
       "      <td>2</td>\n",
       "      <td>338409</td>\n",
       "      <td>0</td>\n",
       "      <td>13</td>\n",
       "      <td>1</td>\n",
       "      <td>3</td>\n",
       "      <td>2</td>\n",
       "      <td>1</td>\n",
       "      <td>0</td>\n",
       "      <td>0</td>\n",
       "      <td>0</td>\n",
       "      <td>40</td>\n",
       "      <td>1</td>\n",
       "      <td>0</td>\n",
       "    </tr>\n",
       "  </tbody>\n",
       "</table>\n",
       "</div>"
      ],
      "text/plain": [
       "   age  workclass  final_weight  education  education_num  marital_status  \\\n",
       "0   39          0         77516          0             13               0   \n",
       "1   50          1         83311          0             13               1   \n",
       "2   38          2        215646          1              9               2   \n",
       "3   53          2        234721          2              7               1   \n",
       "4   28          2        338409          0             13               1   \n",
       "\n",
       "   occupation  relationship  race  sex  capital_gain  capital_loss  \\\n",
       "0           0             0     0    0          2174             0   \n",
       "1           1             1     0    0             0             0   \n",
       "2           2             0     0    0             0             0   \n",
       "3           2             1     1    0             0             0   \n",
       "4           3             2     1    0             0             0   \n",
       "\n",
       "   hrs_per_week  native_country  income  \n",
       "0            40               0       0  \n",
       "1            13               0       0  \n",
       "2            40               0       0  \n",
       "3            40               0       0  \n",
       "4            40               1       0  "
      ]
     },
     "execution_count": 231,
     "metadata": {},
     "output_type": "execute_result"
    }
   ],
   "source": [
    "df.head()"
   ]
  },
  {
   "cell_type": "code",
   "execution_count": 232,
   "id": "f26290e1-afc6-4a36-9951-30c96131e0fb",
   "metadata": {},
   "outputs": [
    {
     "data": {
      "text/plain": [
       "<AxesSubplot:>"
      ]
     },
     "execution_count": 232,
     "metadata": {},
     "output_type": "execute_result"
    },
    {
     "data": {
      "image/png": "[encoded data removed]",
      "text/plain": [
       "<Figure size 1500x1500 with 2 Axes>"
      ]
     },
     "metadata": {},
     "output_type": "display_data"
    }
   ],
   "source": [
    "plt.figure(figsize=(15,15))\n",
    "sns.heatmap(df.corr(),annot=True)"
   ]
  },
  {
   "cell_type": "code",
   "execution_count": 233,
   "id": "50448057-9ffe-4d92-9667-36aeb012ab47",
   "metadata": {},
   "outputs": [
    {
     "data": {
      "text/html": [
       "<div>\n",
       "<style scoped>\n",
       "    .dataframe tbody tr th:only-of-type {\n",
       "        vertical-align: middle;\n",
       "    }\n",
       "\n",
       "    .dataframe tbody tr th {\n",
       "        vertical-align: top;\n",
       "    }\n",
       "\n",
       "    .dataframe thead th {\n",
       "        text-align: right;\n",
       "    }\n",
       "</style>\n",
       "<table border=\"1\" class=\"dataframe\">\n",
       "  <thead>\n",
       "    <tr style=\"text-align: right;\">\n",
       "      <th></th>\n",
       "      <th>age</th>\n",
       "      <th>workclass</th>\n",
       "      <th>final_weight</th>\n",
       "      <th>education</th>\n",
       "      <th>education_num</th>\n",
       "      <th>marital_status</th>\n",
       "      <th>occupation</th>\n",
       "      <th>relationship</th>\n",
       "      <th>race</th>\n",
       "      <th>sex</th>\n",
       "      <th>capital_gain</th>\n",
       "      <th>capital_loss</th>\n",
       "      <th>hrs_per_week</th>\n",
       "      <th>native_country</th>\n",
       "      <th>income</th>\n",
       "    </tr>\n",
       "  </thead>\n",
       "  <tbody>\n",
       "    <tr>\n",
       "      <th>0</th>\n",
       "      <td>39</td>\n",
       "      <td>0</td>\n",
       "      <td>77516</td>\n",
       "      <td>0</td>\n",
       "      <td>13</td>\n",
       "      <td>0</td>\n",
       "      <td>0</td>\n",
       "      <td>0</td>\n",
       "      <td>0</td>\n",
       "      <td>0</td>\n",
       "      <td>2174</td>\n",
       "      <td>0</td>\n",
       "      <td>40</td>\n",
       "      <td>0</td>\n",
       "      <td>0</td>\n",
       "    </tr>\n",
       "    <tr>\n",
       "      <th>1</th>\n",
       "      <td>50</td>\n",
       "      <td>1</td>\n",
       "      <td>83311</td>\n",
       "      <td>0</td>\n",
       "      <td>13</td>\n",
       "      <td>1</td>\n",
       "      <td>1</td>\n",
       "      <td>1</td>\n",
       "      <td>0</td>\n",
       "      <td>0</td>\n",
       "      <td>0</td>\n",
       "      <td>0</td>\n",
       "      <td>13</td>\n",
       "      <td>0</td>\n",
       "      <td>0</td>\n",
       "    </tr>\n",
       "    <tr>\n",
       "      <th>2</th>\n",
       "      <td>38</td>\n",
       "      <td>2</td>\n",
       "      <td>215646</td>\n",
       "      <td>1</td>\n",
       "      <td>9</td>\n",
       "      <td>2</td>\n",
       "      <td>2</td>\n",
       "      <td>0</td>\n",
       "      <td>0</td>\n",
       "      <td>0</td>\n",
       "      <td>0</td>\n",
       "      <td>0</td>\n",
       "      <td>40</td>\n",
       "      <td>0</td>\n",
       "      <td>0</td>\n",
       "    </tr>\n",
       "    <tr>\n",
       "      <th>3</th>\n",
       "      <td>53</td>\n",
       "      <td>2</td>\n",
       "      <td>234721</td>\n",
       "      <td>2</td>\n",
       "      <td>7</td>\n",
       "      <td>1</td>\n",
       "      <td>2</td>\n",
       "      <td>1</td>\n",
       "      <td>1</td>\n",
       "      <td>0</td>\n",
       "      <td>0</td>\n",
       "      <td>0</td>\n",
       "      <td>40</td>\n",
       "      <td>0</td>\n",
       "      <td>0</td>\n",
       "    </tr>\n",
       "    <tr>\n",
       "      <th>4</th>\n",
       "      <td>28</td>\n",
       "      <td>2</td>\n",
       "      <td>338409</td>\n",
       "      <td>0</td>\n",
       "      <td>13</td>\n",
       "      <td>1</td>\n",
       "      <td>3</td>\n",
       "      <td>2</td>\n",
       "      <td>1</td>\n",
       "      <td>0</td>\n",
       "      <td>0</td>\n",
       "      <td>0</td>\n",
       "      <td>40</td>\n",
       "      <td>1</td>\n",
       "      <td>0</td>\n",
       "    </tr>\n",
       "  </tbody>\n",
       "</table>\n",
       "</div>"
      ],
      "text/plain": [
       "   age  workclass  final_weight  education  education_num  marital_status  \\\n",
       "0   39          0         77516          0             13               0   \n",
       "1   50          1         83311          0             13               1   \n",
       "2   38          2        215646          1              9               2   \n",
       "3   53          2        234721          2              7               1   \n",
       "4   28          2        338409          0             13               1   \n",
       "\n",
       "   occupation  relationship  race  sex  capital_gain  capital_loss  \\\n",
       "0           0             0     0    0          2174             0   \n",
       "1           1             1     0    0             0             0   \n",
       "2           2             0     0    0             0             0   \n",
       "3           2             1     1    0             0             0   \n",
       "4           3             2     1    0             0             0   \n",
       "\n",
       "   hrs_per_week  native_country  income  \n",
       "0            40               0       0  \n",
       "1            13               0       0  \n",
       "2            40               0       0  \n",
       "3            40               0       0  \n",
       "4            40               1       0  "
      ]
     },
     "execution_count": 233,
     "metadata": {},
     "output_type": "execute_result"
    }
   ],
   "source": [
    "df.head()"
   ]
  },
  {
   "cell_type": "code",
   "execution_count": 234,
   "id": "ea7009e0-2891-4c65-b873-898ea225b426",
   "metadata": {},
   "outputs": [
    {
     "data": {
      "image/png": "[encoded data removed]",
      "text/plain": [
       "<Figure size 1000x400 with 1 Axes>"
      ]
     },
     "metadata": {},
     "output_type": "display_data"
    },
    {
     "data": {
      "image/png": "[encoded data removed]",
      "text/plain": [
       "<Figure size 1000x400 with 1 Axes>"
      ]
     },
     "metadata": {},
     "output_type": "display_data"
    }
   ],
   "source": [
    "for feature in ['final_weight', 'capital_gain']:\n",
    "    plt.figure(figsize=(10, 4))\n",
    "    sns.boxplot(x=df[feature],data=df)"
   ]
  },
  {
   "cell_type": "code",
   "execution_count": 235,
   "id": "b09b712d-90e8-4000-a46f-e6b344d5c931",
   "metadata": {},
   "outputs": [
    {
     "data": {
      "text/html": [
       "<div>\n",
       "<style scoped>\n",
       "    .dataframe tbody tr th:only-of-type {\n",
       "        vertical-align: middle;\n",
       "    }\n",
       "\n",
       "    .dataframe tbody tr th {\n",
       "        vertical-align: top;\n",
       "    }\n",
       "\n",
       "    .dataframe thead th {\n",
       "        text-align: right;\n",
       "    }\n",
       "</style>\n",
       "<table border=\"1\" class=\"dataframe\">\n",
       "  <thead>\n",
       "    <tr style=\"text-align: right;\">\n",
       "      <th></th>\n",
       "      <th>age</th>\n",
       "      <th>workclass</th>\n",
       "      <th>final_weight</th>\n",
       "      <th>education</th>\n",
       "      <th>education_num</th>\n",
       "      <th>marital_status</th>\n",
       "      <th>occupation</th>\n",
       "      <th>relationship</th>\n",
       "      <th>race</th>\n",
       "      <th>sex</th>\n",
       "      <th>capital_gain</th>\n",
       "      <th>capital_loss</th>\n",
       "      <th>hrs_per_week</th>\n",
       "      <th>native_country</th>\n",
       "      <th>income</th>\n",
       "    </tr>\n",
       "  </thead>\n",
       "  <tbody>\n",
       "    <tr>\n",
       "      <th>count</th>\n",
       "      <td>30162.000000</td>\n",
       "      <td>30162.000000</td>\n",
       "      <td>3.016200e+04</td>\n",
       "      <td>30162.000000</td>\n",
       "      <td>30162.000000</td>\n",
       "      <td>30162.000000</td>\n",
       "      <td>30162.000000</td>\n",
       "      <td>30162.000000</td>\n",
       "      <td>30162.000000</td>\n",
       "      <td>30162.0</td>\n",
       "      <td>30162.000000</td>\n",
       "      <td>30162.000000</td>\n",
       "      <td>30162.000000</td>\n",
       "      <td>30162.000000</td>\n",
       "      <td>30162.000000</td>\n",
       "    </tr>\n",
       "    <tr>\n",
       "      <th>mean</th>\n",
       "      <td>38.437902</td>\n",
       "      <td>2.109343</td>\n",
       "      <td>1.897938e+05</td>\n",
       "      <td>3.368842</td>\n",
       "      <td>10.121312</td>\n",
       "      <td>1.075061</td>\n",
       "      <td>4.615609</td>\n",
       "      <td>1.523971</td>\n",
       "      <td>0.211823</td>\n",
       "      <td>0.0</td>\n",
       "      <td>1092.007858</td>\n",
       "      <td>88.372489</td>\n",
       "      <td>40.931238</td>\n",
       "      <td>1.183509</td>\n",
       "      <td>0.248922</td>\n",
       "    </tr>\n",
       "    <tr>\n",
       "      <th>std</th>\n",
       "      <td>13.134665</td>\n",
       "      <td>0.934785</td>\n",
       "      <td>1.056530e+05</td>\n",
       "      <td>3.404320</td>\n",
       "      <td>2.549995</td>\n",
       "      <td>1.217557</td>\n",
       "      <td>3.432195</td>\n",
       "      <td>1.431980</td>\n",
       "      <td>0.612461</td>\n",
       "      <td>0.0</td>\n",
       "      <td>7406.346497</td>\n",
       "      <td>404.298370</td>\n",
       "      <td>11.979984</td>\n",
       "      <td>4.947070</td>\n",
       "      <td>0.432396</td>\n",
       "    </tr>\n",
       "    <tr>\n",
       "      <th>min</th>\n",
       "      <td>17.000000</td>\n",
       "      <td>0.000000</td>\n",
       "      <td>1.376900e+04</td>\n",
       "      <td>0.000000</td>\n",
       "      <td>1.000000</td>\n",
       "      <td>0.000000</td>\n",
       "      <td>0.000000</td>\n",
       "      <td>0.000000</td>\n",
       "      <td>0.000000</td>\n",
       "      <td>0.0</td>\n",
       "      <td>0.000000</td>\n",
       "      <td>0.000000</td>\n",
       "      <td>1.000000</td>\n",
       "      <td>0.000000</td>\n",
       "      <td>0.000000</td>\n",
       "    </tr>\n",
       "    <tr>\n",
       "      <th>25%</th>\n",
       "      <td>28.000000</td>\n",
       "      <td>2.000000</td>\n",
       "      <td>1.176272e+05</td>\n",
       "      <td>1.000000</td>\n",
       "      <td>9.000000</td>\n",
       "      <td>0.000000</td>\n",
       "      <td>1.000000</td>\n",
       "      <td>0.000000</td>\n",
       "      <td>0.000000</td>\n",
       "      <td>0.0</td>\n",
       "      <td>0.000000</td>\n",
       "      <td>0.000000</td>\n",
       "      <td>40.000000</td>\n",
       "      <td>0.000000</td>\n",
       "      <td>0.000000</td>\n",
       "    </tr>\n",
       "    <tr>\n",
       "      <th>50%</th>\n",
       "      <td>37.000000</td>\n",
       "      <td>2.000000</td>\n",
       "      <td>1.784250e+05</td>\n",
       "      <td>2.000000</td>\n",
       "      <td>10.000000</td>\n",
       "      <td>1.000000</td>\n",
       "      <td>4.000000</td>\n",
       "      <td>1.000000</td>\n",
       "      <td>0.000000</td>\n",
       "      <td>0.0</td>\n",
       "      <td>0.000000</td>\n",
       "      <td>0.000000</td>\n",
       "      <td>40.000000</td>\n",
       "      <td>0.000000</td>\n",
       "      <td>0.000000</td>\n",
       "    </tr>\n",
       "    <tr>\n",
       "      <th>75%</th>\n",
       "      <td>47.000000</td>\n",
       "      <td>2.000000</td>\n",
       "      <td>2.376285e+05</td>\n",
       "      <td>5.000000</td>\n",
       "      <td>13.000000</td>\n",
       "      <td>1.000000</td>\n",
       "      <td>8.000000</td>\n",
       "      <td>3.000000</td>\n",
       "      <td>0.000000</td>\n",
       "      <td>0.0</td>\n",
       "      <td>0.000000</td>\n",
       "      <td>0.000000</td>\n",
       "      <td>45.000000</td>\n",
       "      <td>0.000000</td>\n",
       "      <td>0.000000</td>\n",
       "    </tr>\n",
       "    <tr>\n",
       "      <th>max</th>\n",
       "      <td>90.000000</td>\n",
       "      <td>6.000000</td>\n",
       "      <td>1.484705e+06</td>\n",
       "      <td>15.000000</td>\n",
       "      <td>16.000000</td>\n",
       "      <td>6.000000</td>\n",
       "      <td>13.000000</td>\n",
       "      <td>5.000000</td>\n",
       "      <td>4.000000</td>\n",
       "      <td>0.0</td>\n",
       "      <td>99999.000000</td>\n",
       "      <td>4356.000000</td>\n",
       "      <td>99.000000</td>\n",
       "      <td>40.000000</td>\n",
       "      <td>1.000000</td>\n",
       "    </tr>\n",
       "  </tbody>\n",
       "</table>\n",
       "</div>"
      ],
      "text/plain": [
       "                age     workclass  final_weight     education  education_num  \\\n",
       "count  30162.000000  30162.000000  3.016200e+04  30162.000000   30162.000000   \n",
       "mean      38.437902      2.109343  1.897938e+05      3.368842      10.121312   \n",
       "std       13.134665      0.934785  1.056530e+05      3.404320       2.549995   \n",
       "min       17.000000      0.000000  1.376900e+04      0.000000       1.000000   \n",
       "25%       28.000000      2.000000  1.176272e+05      1.000000       9.000000   \n",
       "50%       37.000000      2.000000  1.784250e+05      2.000000      10.000000   \n",
       "75%       47.000000      2.000000  2.376285e+05      5.000000      13.000000   \n",
       "max       90.000000      6.000000  1.484705e+06     15.000000      16.000000   \n",
       "\n",
       "       marital_status    occupation  relationship          race      sex  \\\n",
       "count    30162.000000  30162.000000  30162.000000  30162.000000  30162.0   \n",
       "mean         1.075061      4.615609      1.523971      0.211823      0.0   \n",
       "std          1.217557      3.432195      1.431980      0.612461      0.0   \n",
       "min          0.000000      0.000000      0.000000      0.000000      0.0   \n",
       "25%          0.000000      1.000000      0.000000      0.000000      0.0   \n",
       "50%          1.000000      4.000000      1.000000      0.000000      0.0   \n",
       "75%          1.000000      8.000000      3.000000      0.000000      0.0   \n",
       "max          6.000000     13.000000      5.000000      4.000000      0.0   \n",
       "\n",
       "       capital_gain  capital_loss  hrs_per_week  native_country        income  \n",
       "count  30162.000000  30162.000000  30162.000000    30162.000000  30162.000000  \n",
       "mean    1092.007858     88.372489     40.931238        1.183509      0.248922  \n",
       "std     7406.346497    404.298370     11.979984        4.947070      0.432396  \n",
       "min        0.000000      0.000000      1.000000        0.000000      0.000000  \n",
       "25%        0.000000      0.000000     40.000000        0.000000      0.000000  \n",
       "50%        0.000000      0.000000     40.000000        0.000000      0.000000  \n",
       "75%        0.000000      0.000000     45.000000        0.000000      0.000000  \n",
       "max    99999.000000   4356.000000     99.000000       40.000000      1.000000  "
      ]
     },
     "execution_count": 235,
     "metadata": {},
     "output_type": "execute_result"
    }
   ],
   "source": [
    "df.describe()"
   ]
  },
  {
   "cell_type": "code",
   "execution_count": 236,
   "id": "71ec16d5-c119-430e-84d1-1c7d68b7618a",
   "metadata": {},
   "outputs": [],
   "source": [
    "# Importing the train_test_split function to split the dataset into training and testing sets\n",
    "from sklearn.model_selection import train_test_split\n",
    "# Importing the StandardScaler class for feature scaling\n",
    "from sklearn.preprocessing import StandardScaler"
   ]
  },
  {
   "cell_type": "code",
   "execution_count": 237,
   "id": "0c194dd8-c8ae-4c92-85f9-eea33ec7e5f9",
   "metadata": {},
   "outputs": [],
   "source": [
    "# Extracting all rows and all columns except the last one as feature variables (X)\n",
    "X = df.iloc[:, :-1]\n",
    "# Extracting all rows from the last column as the target variable (y)\n",
    "y = df.iloc[:, -1]"
   ]
  },
  {
   "cell_type": "code",
   "execution_count": 238,
   "id": "4c9143b8-c17b-4466-8919-94c62acef31f",
   "metadata": {},
   "outputs": [
    {
     "data": {
      "text/plain": [
       "array([[ 0.04279571, -2.25653747, -1.0627216 , ..., -0.21858598,\n",
       "        -0.07773411, -0.23923831],\n",
       "       [ 0.88028814, -1.18675527, -1.00787131, ..., -0.21858598,\n",
       "        -2.3315307 , -0.23923831],\n",
       "       [-0.03333996, -0.11697307,  0.24469349, ..., -0.21858598,\n",
       "        -0.07773411, -0.23923831],\n",
       "       ...,\n",
       "       [ 1.48937355, -0.11697307, -0.3585745 , ..., -0.21858598,\n",
       "        -0.07773411, -0.23923831],\n",
       "       [-1.25151078, -0.11697307,  0.11070545, ..., -0.21858598,\n",
       "        -1.74721307, -0.23923831],\n",
       "       [ 1.0325595 ,  3.09237353,  0.92884082, ..., -0.21858598,\n",
       "        -0.07773411, -0.23923831]])"
      ]
     },
     "execution_count": 238,
     "metadata": {},
     "output_type": "execute_result"
    }
   ],
   "source": [
    "# Converting the feature DataFrame X to a NumPy array for compatibility with scikit-learn\n",
    "X = X.values\n",
    "# Converting the target Series y to a NumPy array for compatibility with scikit-learn\n",
    "y = y.values\n",
    "# Creating an instance of StandardScaler for feature scaling\n",
    "sc = StandardScaler()\n",
    "# Fitting the StandardScaler to the feature data X and transforming it to scaled values\n",
    "sc.fit_transform(X)"
   ]
  },
  {
   "cell_type": "code",
   "execution_count": 239,
   "id": "59d8b048-77a5-4027-9ad9-d90ef24f1541",
   "metadata": {},
   "outputs": [],
   "source": [
    "# Splitting the data into training and testing sets using train_test_split\n",
    "X_train, X_test, y_train, y_test = train_test_split(X, y, test_size=0.3, random_state=42)"
   ]
  },
  {
   "cell_type": "code",
   "execution_count": 240,
   "id": "58780d8c-2675-47bf-9f51-011a3b4e2545",
   "metadata": {},
   "outputs": [],
   "source": [
    "# Importing the LogisticRegression class for training a logistic regression model\n",
    "from sklearn.linear_model import LogisticRegression"
   ]
  },
  {
   "cell_type": "code",
   "execution_count": 241,
   "id": "7b7e62d5-00c0-44a2-88bc-c939574118a0",
   "metadata": {},
   "outputs": [],
   "source": [
    "# Creating an instance of Logistic Regression model for classification\n",
    "lg = LogisticRegression()"
   ]
  },
  {
   "cell_type": "code",
   "execution_count": 242,
   "id": "0d628807-4801-46db-b86f-b4c49610dd6c",
   "metadata": {},
   "outputs": [
    {
     "data": {
      "text/plain": [
       "LogisticRegression()"
      ]
     },
     "execution_count": 242,
     "metadata": {},
     "output_type": "execute_result"
    }
   ],
   "source": [
    "# Fitting the logistic regression model to the training data\n",
    "lg.fit(X_train,y_train)"
   ]
  },
  {
   "cell_type": "code",
   "execution_count": 243,
   "id": "35a11e94-1753-4e0d-82b2-c77b420e0339",
   "metadata": {},
   "outputs": [],
   "source": [
    "# Generating predictions using the trained logistic regression model on the test data\n",
    "pred = lg.predict(X_test)"
   ]
  },
  {
   "cell_type": "code",
   "execution_count": 244,
   "id": "32af52cc-bbff-4fa4-a4ff-b3912e9c9aca",
   "metadata": {},
   "outputs": [],
   "source": [
    "# Importing metrics and evaluation functions for model performance assessment\n",
    "from sklearn.metrics import accuracy_score, classification_report, confusion_matrix"
   ]
  },
  {
   "cell_type": "code",
   "execution_count": 245,
   "id": "cb3eca3e-a508-4cd6-a163-f64d2943426d",
   "metadata": {},
   "outputs": [
    {
     "name": "stdout",
     "output_type": "stream",
     "text": [
      "--------------------------------------------Classification Report---------------------------------------------\n",
      "              precision    recall  f1-score   support\n",
      "\n",
      "           0       0.79      0.97      0.87      6767\n",
      "           1       0.71      0.25      0.37      2282\n",
      "\n",
      "    accuracy                           0.79      9049\n",
      "   macro avg       0.75      0.61      0.62      9049\n",
      "weighted avg       0.77      0.79      0.74      9049\n",
      "\n",
      "------------------------------------------Accuracy Score---------------------------------------------------------\n",
      "0.785390650900652\n",
      "--------------------------------------------Confustion Matrix-----------------------------------------------------\n"
     ]
    },
    {
     "data": {
      "image/png": "[encoded data removed]",
      "text/plain": [
       "<Figure size 1000x500 with 2 Axes>"
      ]
     },
     "metadata": {},
     "output_type": "display_data"
    }
   ],
   "source": [
    "# Printing a detailed classification report to evaluate model performance\n",
    "print(\"--------------------------------------------Classification Report---------------------------------------------\")\n",
    "print(classification_report(y_test, pred))\n",
    "\n",
    "# Printing the accuracy score of the model on the test data\n",
    "print(\"------------------------------------------Accuracy Score---------------------------------------------------------\")\n",
    "print(accuracy_score(y_test, pred))\n",
    "\n",
    "# Creating a new Matplotlib figure with specified size (width=10, height=5)\n",
    "print(\"--------------------------------------------Confustion Matrix-----------------------------------------------------\")\n",
    "\n",
    "# Creating a Seaborn heatmap to visualize the confusion matrix\n",
    "plt.figure(figsize=(10,5))\n",
    "sns.heatmap(confusion_matrix(y_test, pred), annot=True);"
   ]
  },
  {
   "cell_type": "code",
   "execution_count": null,
   "id": "35cacc3a-3eb3-45c7-ab39-be1775ed5fa6",
   "metadata": {},
   "outputs": [],
   "source": []
  }
 ],
 "metadata": {
  "kernelspec": {
   "display_name": "Python 3 (ipykernel)",
   "language": "python",
   "name": "python3"
  },
  "language_info": {
   "codemirror_mode": {
    "name": "ipython",
    "version": 3
   },
   "file_extension": ".py",
   "mimetype": "text/x-python",
   "name": "python",
   "nbconvert_exporter": "python",
   "pygments_lexer": "ipython3",
   "version": "3.9.13"
  }
 },
 "nbformat": 4,
 "nbformat_minor": 5
}
